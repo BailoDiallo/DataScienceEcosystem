{
 "cells": [
  {
   "cell_type": "markdown",
   "id": "bf2a6de2-0aec-472a-bd85-6e95f4c200d2",
   "metadata": {},
   "source": [
    "# Outils et écosystème de la science des données\n"
   ]
  },
  {
   "cell_type": "markdown",
   "id": "bf5036ef-2bfe-483e-a932-a1ea157dac18",
   "metadata": {},
   "source": [
    "Dans ce notebook, les outils et l'écosystème de la science des données sont résumés.\n"
   ]
  },
  {
   "cell_type": "markdown",
   "id": "c5cb8dee-c3cb-4840-93e5-426a8cab5d8f",
   "metadata": {},
   "source": [
    "**Objectifs :**\n",
    "- Lister les langages populaires pour la science des données.\n",
    "- Identifier les bibliothèques couramment utilisées\n"
   ]
  },
  {
   "cell_type": "markdown",
   "id": "8bd25afc-c654-478c-b492-08cfab33af4e",
   "metadata": {},
   "source": [
    "Certains des langages populaires que les scientifiques des données utilisent sont :\n",
    "1. Python\n",
    "2. R\n",
    "3. SQL\n"
   ]
  },
  {
   "cell_type": "markdown",
   "id": "27975d62-32e1-40a4-9881-25187327ac87",
   "metadata": {},
   "source": [
    "Certaines des bibliothèques couramment utilisées par les scientifiques des données incluent :\n",
    "1. Pandas\n",
    "2. NumPy\n",
    "3. Matplotlib\n",
    "   \n"
   ]
  },
  {
   "cell_type": "markdown",
   "id": "8e90e982-09f6-4d28-abc0-905722bc4824",
   "metadata": {},
   "source": [
    "| Outils de la science des données |\n",
    "|-----------------------------------|\n",
    "| Jupyter Notebook                  |\n",
    "| RStudio                           |\n",
    "| Apache Zeppelin                   |\n"
   ]
  },
  {
   "cell_type": "markdown",
   "id": "21c8e810-56e1-481d-adb0-eb1870eb8fbb",
   "metadata": {},
   "source": [
    "### Voici quelques exemples d'évaluation d'expressions arithmétiques en Python.\n"
   ]
  },
  {
   "cell_type": "code",
   "execution_count": 5,
   "id": "a19ce264-39fc-49cb-92d2-2a8f69f8a070",
   "metadata": {},
   "outputs": [
    {
     "data": {
      "text/plain": [
       "17"
      ]
     },
     "execution_count": 5,
     "metadata": {},
     "output_type": "execute_result"
    }
   ],
   "source": [
    "# Ceci est une simple expression arithmétique pour multiplier puis additionner des entiers.\n",
    "(3 * 4) + 5\n"
   ]
  },
  {
   "cell_type": "code",
   "execution_count": 4,
   "id": "4909ee06-139a-4ff5-acf8-354c5e3314c6",
   "metadata": {},
   "outputs": [
    {
     "data": {
      "text/plain": [
       "3.3333333333333335"
      ]
     },
     "execution_count": 4,
     "metadata": {},
     "output_type": "execute_result"
    }
   ],
   "source": [
    "# Cela convertira 200 minutes en heures en divisant par 60.\n",
    "200 / 60\n"
   ]
  },
  {
   "cell_type": "markdown",
   "id": "c6808ccd-0dbf-4a5e-88dc-6284724d2816",
   "metadata": {},
   "source": [
    "## Auteur\n",
    "Mamadou Bailo Diallo"
   ]
  },
  {
   "cell_type": "code",
   "execution_count": null,
   "id": "03fc1eed-1491-4d67-8bda-c5e9423870a0",
   "metadata": {},
   "outputs": [],
   "source": []
  }
 ],
 "metadata": {
  "kernelspec": {
   "display_name": "Python 3 (ipykernel)",
   "language": "python",
   "name": "python3"
  },
  "language_info": {
   "codemirror_mode": {
    "name": "ipython",
    "version": 3
   },
   "file_extension": ".py",
   "mimetype": "text/x-python",
   "name": "python",
   "nbconvert_exporter": "python",
   "pygments_lexer": "ipython3",
   "version": "3.13.1"
  }
 },
 "nbformat": 4,
 "nbformat_minor": 5
}
